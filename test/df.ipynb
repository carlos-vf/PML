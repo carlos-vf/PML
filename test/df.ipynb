{
 "cells": [
  {
   "cell_type": "code",
   "execution_count": 5,
   "id": "a2eb6878",
   "metadata": {},
   "outputs": [
    {
     "name": "stdout",
     "output_type": "stream",
     "text": [
      "1797 objects, 64 features\n",
      "X:  [[ 0.  0.  5. ...  0.  0.  0.]\n",
      " [ 0.  0.  0. ... 10.  0.  0.]\n",
      " [ 0.  0.  0. ... 16.  9.  0.]\n",
      " ...\n",
      " [ 0.  0.  1. ...  6.  0.  0.]\n",
      " [ 0.  0.  2. ... 12.  0.  0.]\n",
      " [ 0.  0. 10. ... 12.  1.  0.]]\n",
      "y:  [0 1 2 ... 8 9 8]\n",
      "labels:  {0, 1, 2, 3, 4, 5, 6, 7, 8, 9}\n",
      "Train set size:  1347\n",
      "Test set size:  450\n"
     ]
    }
   ],
   "source": [
    "from sklearn.datasets import load_digits\n",
    "from sklearn.model_selection import train_test_split\n",
    "from sklearn.metrics import accuracy_score\n",
    "\n",
    "from deepforest import CascadeForestClassifier\n",
    "\n",
    "X, y = load_digits(return_X_y=True)\n",
    "X_train, X_test, y_train, y_test = train_test_split(X, y, random_state=1)\n",
    "\n",
    "n_objects = X.shape[0]\n",
    "n_features = X.shape[1]\n",
    "print(n_objects, 'objects,', n_features, 'features')\n",
    "\n",
    "print(\"X: \", X)\n",
    "print(\"y: \", y)\n",
    "print(\"labels: \", set([int(i) for i in y]))\n",
    "print(\"Train set size: \", X_train.shape[0])\n",
    "print(\"Test set size: \", X_test.shape[0])"
   ]
  },
  {
   "cell_type": "code",
   "execution_count": 3,
   "id": "ebcecfc6",
   "metadata": {},
   "outputs": [
    {
     "name": "stdout",
     "output_type": "stream",
     "text": [
      "[2025-05-31 10:18:07.982] Start to fit the model:\n",
      "[2025-05-31 10:18:07.983] Fitting cascade layer = 0 \n",
      "[2025-05-31 10:18:08.596] layer = 0  | Val Acc = 97.996 % | Elapsed = 0.613 s\n",
      "[2025-05-31 10:18:08.600] Fitting cascade layer = 1 \n",
      "[2025-05-31 10:18:09.189] layer = 1  | Val Acc = 98.144 % | Elapsed = 0.589 s\n",
      "[2025-05-31 10:18:09.192] Fitting cascade layer = 2 \n",
      "[2025-05-31 10:18:09.679] layer = 2  | Val Acc = 97.921 % | Elapsed = 0.487 s\n",
      "[2025-05-31 10:18:09.679] Early stopping counter: 1 out of 2\n",
      "[2025-05-31 10:18:09.682] Fitting cascade layer = 3 \n",
      "[2025-05-31 10:18:10.163] layer = 3  | Val Acc = 97.476 % | Elapsed = 0.481 s\n",
      "[2025-05-31 10:18:10.164] Early stopping counter: 2 out of 2\n",
      "[2025-05-31 10:18:10.164] Handling early stopping\n",
      "[2025-05-31 10:18:10.164] The optimal number of layers: 2\n",
      "[2025-05-31 10:18:10.165] Start to evalute the model:\n",
      "[2025-05-31 10:18:10.165] Evaluating cascade layer = 0 \n",
      "[2025-05-31 10:18:10.183] Evaluating cascade layer = 1 \n",
      "\n",
      "Testing Accuracy: 98.667 %\n"
     ]
    }
   ],
   "source": [
    "model = CascadeForestClassifier(random_state=1)\n",
    "model.fit(X_train, y_train)\n",
    "y_pred = model.predict(X_test)\n",
    "acc = accuracy_score(y_test, y_pred) * 100\n",
    "print(\"\\nTesting Accuracy: {:.3f} %\".format(acc))"
   ]
  }
 ],
 "metadata": {
  "kernelspec": {
   "display_name": "venv",
   "language": "python",
   "name": "python3"
  },
  "language_info": {
   "codemirror_mode": {
    "name": "ipython",
    "version": 3
   },
   "file_extension": ".py",
   "mimetype": "text/x-python",
   "name": "python",
   "nbconvert_exporter": "python",
   "pygments_lexer": "ipython3",
   "version": "3.7.0"
  }
 },
 "nbformat": 4,
 "nbformat_minor": 5
}
