{
 "cells": [
  {
   "cell_type": "code",
   "execution_count": 166,
   "id": "a6d0d4e4",
   "metadata": {},
   "outputs": [],
   "source": [
    "from deepforest import CascadeForestClassifier\n",
    "import PRF4DF\n",
    "import numpy as np\n",
    "from sklearn.metrics import accuracy_score\n",
    "from sklearn.ensemble import RandomForestClassifier\n",
    "from sklearn.ensemble import ExtraTreesClassifier\n",
    "\n",
    "# --- Seed setting ---\n",
    "seed = 129\n",
    "np.random.seed(seed)"
   ]
  },
  {
   "cell_type": "code",
   "execution_count": 167,
   "id": "af8f7866",
   "metadata": {},
   "outputs": [
    {
     "name": "stdout",
     "output_type": "stream",
     "text": [
      "--- Original Data ---\n",
      "Original X sample:  [[ 0.33453338  0.3817734   0.19323093 ... -0.81191589  0.19067206\n",
      "   0.84772759]\n",
      " [ 0.32742773  0.35012285  0.17785153 ... -0.85643206  0.19620735\n",
      "   0.85023905]\n",
      " [ 0.39173798  0.32019704  0.17513842 ...  0.23618577  0.20204299\n",
      "   0.79843681]\n",
      " ...\n",
      " [ 0.43071606  0.37988827  0.24714295 ... -0.84221529  0.24334545\n",
      "   0.8628581 ]\n",
      " [ 0.18695281  0.28667433  0.1404702  ...  1.19362455  0.09216904\n",
      "   0.77052006]\n",
      " [ 0.12773789  0.30903322  0.15816711 ...  0.52400894  0.06605999\n",
      "   0.79830589]]\n",
      "Original dX sample:  [[0.00980023 0.01298663 0.01730336 ... 0.07554966 0.00503042 0.00614086]\n",
      " [0.0099433  0.01547131 0.01834346 ... 0.06557894 0.00303583 0.00408301]\n",
      " [0.00952382 0.00953937 0.0162304  ... 0.15137843 0.00276635 0.00701187]\n",
      " ...\n",
      " [0.01513477 0.01971204 0.01964974 ... 0.12579423 0.00383432 0.00537172]\n",
      " [0.01069045 0.00748945 0.0150812  ... 0.43512693 0.00363849 0.00970247]\n",
      " [0.00616469 0.01622886 0.01385321 ... 0.36720489 0.00177792 0.0100949 ]]\n",
      "Original y sample:  [2 0 2 0 2 0 2 0 0 2 2 0 1 0 2 1 2 2 2 0 0 0 2 2 2 2 0 0 2 0 0 2 2 2 2 1 1\n",
      " 0 2 0 2 0 0 2 0 2 0 0 2 0 1 1 2 0 2 2 2 2 0 2 2 2 2 0 2 0 0 0 1 2 2 2 1 2\n",
      " 2 0 2 2 2 0 0 2 0 2 2 2 0 2 0 2 1 2 0 2 0 0 2 2 0 0 0 0 0 0 2 1 0 2 0 0 2\n",
      " 2 1 2 1 1 2 0 2 2 0 0 2 1 2 2 2 2 2 0 0 2 2 0 2 0 2 2 0 0 2 2 0 0 2 2 0 0\n",
      " 0 0 2 0 0 0 0 0 2 2 2 2 0 0 0 2 2 0 0 2 2 0 2 2 0 0 0 0 2 2 0 0 2 2 2 2 2\n",
      " 2 2 0 0 2 2 2 2 2 1 2 2 0 2 0 0 0 2 1 2 0 1 1 2 2 0 1 0 2 2 0 2 0 2 0 2 1\n",
      " 1 2 0 2 2 1 0 2 0 0 0 0 0 0 2 1 0 0 0 0 0 1 0 0 0 0 0 2 0 0 1 0 2 0 0 0 0\n",
      " 0 0 0 2 0 2 2 0 2 0 0 2 2 1 2 0 0 2 2 0 0 1 2 1 0 1 2 0 0 0 2 0 0 0 0 2 2\n",
      " 0 2 2 0 2 0 0 0 0 0 2 1 0 1 0 0 0 2 0 0 0 1 0 0 0 0 0 2 2 0 0 0 0 0 2 0 2\n",
      " 0 0 0 0 0 0 1 2 1 2 2 1 2 0 2 0 1 1 0 0 0 0 2 1 0 0 0 0 0 0 0 0 0 1 1 2 2\n",
      " 2 1 0 0 2 0 1 0 0 2 0 0 2 0 0 0 2 0 2 0 0 2 0 2 0 0 1 2 0 0 1 0 2 0 2 2 2\n",
      " 2 0 0 0 2 2 0 0 2 0 0 2 2 0 0 0 2 0 2 2 0 0 1 0 0 1 0 2 2 0 1 0 1 0 2 2 1\n",
      " 0 0 0 2 0 2 0 0 0 0 2 0 0 0 0 0 0 0 0 0 1 0 0 0 0 1 2 0 0 0 2 0 0 0 0 0 0\n",
      " 2 0 2 0 0 0 0 2 0 2 1 2 2 2 0 2 2 2 0 0 2 0 1 0 2 2 2 1 0 0 0 0 0 2 0 2 0\n",
      " 0 0 0 0 0 0 0 0 0 0 2 1 0 0 0 0 1 0 0 0 0 2 0 0 0 0 0 2 2 0 1 0 0 0 0 2 0\n",
      " 1 2 0 0 0 0 0 2 0 2 2 0 1 0 0 0 1 2 0 0 0 0 0 0 2 2 0 0 0 0 0 0 0 2 2 2 0\n",
      " 0 0 2 2 2 0 0 0 0 0 2 0 0 1 1 1 2 0 0 0 2 2 2 2 0 0 0 2 2 2 0 2 0 2 2 2 2\n",
      " 1 2 2 2 1 2 0 2 0 2 2 0 0 0 0 0 2 2 1 0 2 0 0 0 0 0 2 0 0 0 0 2 0 0 0 2 0\n",
      " 0 0 0 0 0 2 0 2 0 0 2 0 2 0 2 0 0 0 1 0 1 0 2 2 2 1 0 0 0 0 0 2 1 1 0 0 0\n",
      " 1 0 0 0 0 0 1 2 2 0 0 0 0 2 0 0 2 0 0 2 0 0 0 0 0 0 2 0 1 0 2 0 0 0 1 2 0\n",
      " 1 0 0 0 0 0 2 1 0 1 2 0 0 1 0 0 0 1 2 0 2 1 2 0 1 0 2 0 0 1 0 0 0 0 0 0 0\n",
      " 0 2 0 1 0 0 0 0 0 1 0 0 0 0 0 0 2 2 0 0 0 0 2 0 0 0 0 0 0 0 0 2 2 1 0 0 2\n",
      " 2 0 0 0 0 0 0 0 0 0 1 0 1 0 0 2 2 0 1 0 0 0 0 2 0 0 0 0 0 0 0 0 0 0 0 0 0\n",
      " 0 2 0 0 0 1 2 1 0 0 0 0 2 0 0 0 0 0 1 0 0 0 2 0 1 0 0 1 0 1 0 0 0 0 0 0 0\n",
      " 0 0 1 0 0 0 0 0 0 0 0 0 0 2 0 0 0 0 0 2 0 0 0 0 2 0 2 0 0 0 2 0 2 1 0 0 0\n",
      " 2 0 1 2 0 2 0 0 0 0 0 1 0 0 0 2 0 0 2 0 0 0 0 2 0 0 1 2 1 0 1 0 0 2 0 0 0\n",
      " 0 2 0 0 0 1 0 2 0 0 2 2 0 2 0 0 0 0 0 1 0 0 2 0 1 2 0 1 1 0 0 2 0 0 0 2 1\n",
      " 2]\n",
      "Unique labels in y:  {0, 1, 2}\n",
      "1000 objects, 17 features\n"
     ]
    }
   ],
   "source": [
    "# --- Data loading ---\n",
    "X = np.load('../data/bootstrap_X.npy')\n",
    "dX = np.load('../data/bootstrap_dX.npy')\n",
    "y = np.load('../data/bootstrap_y.npy')\n",
    "\n",
    "X = X[:1000]\n",
    "dX = dX[:1000]\n",
    "y = y[:1000]\n",
    "y[y > 2] = 2\n",
    "\n",
    "#dX = np.zeros(shape=(2000,17))\n",
    "print(\"--- Original Data ---\")\n",
    "print(\"Original X sample: \", X)\n",
    "print(\"Original dX sample: \", dX)\n",
    "print(\"Original y sample: \", y)\n",
    "print(\"Unique labels in y: \", set(y))\n",
    "\n",
    "n_objects = X.shape[0]\n",
    "n_features = X.shape[1]\n",
    "n_classes = len(set(y))\n",
    "print(f\"{n_objects} objects, {n_features} features\")"
   ]
  },
  {
   "cell_type": "code",
   "execution_count": 168,
   "id": "484adf75",
   "metadata": {},
   "outputs": [
    {
     "name": "stdout",
     "output_type": "stream",
     "text": [
      "Train set size = 800, Test set size = 200\n"
     ]
    }
   ],
   "source": [
    "# --- Data splitting ---\n",
    "n_train = int(n_objects * 0.8)\n",
    "n_test =  int(n_objects - n_train)\n",
    "print(f'Train set size = {n_train}, Test set size = {n_test}')\n",
    "\n",
    "shuffled_inds = np.random.permutation(n_objects)\n",
    "\n",
    "train_inds = shuffled_inds[:n_train]\n",
    "X_train = X[train_inds][:, :n_features]\n",
    "dX_train = dX[train_inds][:, :n_features] \n",
    "y_train = y[train_inds]\n",
    "\n",
    "test_inds = shuffled_inds[n_train:(n_train + n_test)]\n",
    "X_test = X[test_inds][:, :n_features]\n",
    "dX_test = dX[test_inds][:, :n_features]\n",
    "y_test = y[test_inds]\n",
    "\n",
    "# Concatenate X and dX for training\n",
    "X_train_combined = np.hstack((X_train, dX_train))\n",
    "X_test_combined = np.hstack((X_test, dX_test))"
   ]
  },
  {
   "cell_type": "code",
   "execution_count": 173,
   "id": "1999de4a",
   "metadata": {},
   "outputs": [],
   "source": [
    "# --- Model training ---\n",
    "\n",
    "# DeepForest\n",
    "n_cascade_estimators = 2  # Forests per layer\n",
    "model = CascadeForestClassifier(\n",
    "    n_bins=n_classes,\n",
    "    random_state=seed,\n",
    ")\n",
    "\n",
    "\n",
    "# PRF (estimators)\n",
    "prf_estimators = []\n",
    "for i in range(n_cascade_estimators):\n",
    "    single_prf_estimator = PRF4DF.SklearnCompatiblePRF(\n",
    "        n_classes_= n_classes,\n",
    "        n_features_= n_features,\n",
    "        use_probabilistic_labels=False, \n",
    "        use_feature_uncertainties=True,\n",
    "        n_estimators=10, # Trees per forest\n",
    "        max_depth=10,\n",
    "        n_jobs=1\n",
    "    )\n",
    "\n",
    "    #rf = RandomForestClassifier(\n",
    "    #    n_estimators=20, # Trees per forest\n",
    "    #    max_depth=10,\n",
    "    #    random_state=i)\n",
    "    \n",
    "    #erf = ExtraTreesClassifier(\n",
    "    #    n_estimators=20, # Trees per forest\n",
    "    #    max_depth=10,\n",
    "    #    random_state=i)\n",
    "\n",
    "    prf_estimators.append(single_prf_estimator)\n",
    "    #prf_estimators.append(rf)\n",
    "    #prf_estimators.append(erf)\n",
    "\n",
    "\n",
    "# Set the PRF estimators to the DF model\n",
    "model.set_estimator(prf_estimators)"
   ]
  },
  {
   "cell_type": "code",
   "execution_count": 174,
   "id": "c082cf72",
   "metadata": {},
   "outputs": [
    {
     "name": "stdout",
     "output_type": "stream",
     "text": [
      "Starting model fitting...\n",
      "[2025-06-09 08:32:14.013] Start to fit the model:\n",
      "[2025-06-09 08:32:14.013] Fitting cascade layer = 0 \n",
      "[2025-06-09 08:32:18.810] layer = 0  | Val Acc = 73.750 % | Elapsed = 4.798 s\n",
      "[2025-06-09 08:32:18.813] Fitting cascade layer = 1 \n",
      "[2025-06-09 08:32:24.175] layer = 1  | Val Acc = 72.875 % | Elapsed = 5.362 s\n",
      "[2025-06-09 08:32:24.175] Early stopping counter: 1 out of 2\n",
      "[2025-06-09 08:32:24.177] Fitting cascade layer = 2 \n",
      "[2025-06-09 08:32:29.025] layer = 2  | Val Acc = 71.875 % | Elapsed = 4.848 s\n",
      "[2025-06-09 08:32:29.025] Early stopping counter: 2 out of 2\n",
      "[2025-06-09 08:32:29.025] Handling early stopping\n",
      "[2025-06-09 08:32:29.032] The optimal number of layers: 1\n"
     ]
    }
   ],
   "source": [
    "# --- Model fitting ---\n",
    "print(\"Starting model fitting...\")\n",
    "model.fit(X=X_train_combined, y=y_train)"
   ]
  },
  {
   "cell_type": "code",
   "execution_count": 175,
   "id": "5ad15074",
   "metadata": {},
   "outputs": [
    {
     "name": "stdout",
     "output_type": "stream",
     "text": [
      "[2025-06-09 08:32:30.505] Start to evalute the model:\n",
      "[2025-06-09 08:32:30.505] Evaluating cascade layer = 0 \n",
      "Testing Accuracy: 75.500 %\n"
     ]
    }
   ],
   "source": [
    "# --- Model evaluation ---\n",
    "accuracy = model.score(X_test_combined, y_test) * 100\n",
    "print(f\"Testing Accuracy: {accuracy:.3f} %\")"
   ]
  },
  {
   "cell_type": "code",
   "execution_count": 176,
   "id": "bde1e508",
   "metadata": {},
   "outputs": [
    {
     "name": "stdout",
     "output_type": "stream",
     "text": [
      "[2025-06-09 08:32:33.386] Start to fit the model:\n",
      "[2025-06-09 08:32:33.386] Fitting cascade layer = 0 \n",
      "[2025-06-09 08:32:33.651] layer = 0  | Val Acc = 74.375 % | Elapsed = 0.264 s\n",
      "[2025-06-09 08:32:33.654] Fitting cascade layer = 1 \n",
      "[2025-06-09 08:32:33.922] layer = 1  | Val Acc = 75.875 % | Elapsed = 0.268 s\n",
      "[2025-06-09 08:32:33.925] Fitting cascade layer = 2 \n",
      "[2025-06-09 08:32:34.223] layer = 2  | Val Acc = 76.625 % | Elapsed = 0.298 s\n",
      "[2025-06-09 08:32:34.227] Fitting cascade layer = 3 \n",
      "[2025-06-09 08:32:34.480] layer = 3  | Val Acc = 77.625 % | Elapsed = 0.254 s\n",
      "[2025-06-09 08:32:34.483] Fitting cascade layer = 4 \n",
      "[2025-06-09 08:32:34.730] layer = 4  | Val Acc = 78.250 % | Elapsed = 0.247 s\n",
      "[2025-06-09 08:32:34.733] Fitting cascade layer = 5 \n",
      "[2025-06-09 08:32:34.983] layer = 5  | Val Acc = 77.750 % | Elapsed = 0.250 s\n",
      "[2025-06-09 08:32:34.984] Early stopping counter: 1 out of 2\n",
      "[2025-06-09 08:32:34.988] Fitting cascade layer = 6 \n",
      "[2025-06-09 08:32:35.235] layer = 6  | Val Acc = 75.750 % | Elapsed = 0.247 s\n",
      "[2025-06-09 08:32:35.235] Early stopping counter: 2 out of 2\n",
      "[2025-06-09 08:32:35.235] Handling early stopping\n",
      "[2025-06-09 08:32:35.237] The optimal number of layers: 5\n",
      "[2025-06-09 08:32:35.237] Start to evalute the model:\n",
      "[2025-06-09 08:32:35.237] Evaluating cascade layer = 0 \n",
      "[2025-06-09 08:32:35.246] Evaluating cascade layer = 1 \n",
      "[2025-06-09 08:32:35.255] Evaluating cascade layer = 2 \n",
      "[2025-06-09 08:32:35.264] Evaluating cascade layer = 3 \n",
      "[2025-06-09 08:32:35.274] Evaluating cascade layer = 4 \n",
      "\n",
      "Testing Accuracy: 77.500 %\n"
     ]
    }
   ],
   "source": [
    "model = CascadeForestClassifier(   \n",
    "    n_bins=n_classes,     \n",
    "    n_estimators=2, # Forests sets (RF + ExtraRF) per layer\n",
    "    n_trees=50, # Trees per forest\n",
    "    max_depth=10,\n",
    "    n_jobs=1)\n",
    "model.fit(X_train, y_train)\n",
    "y_pred = model.predict(X_test)\n",
    "acc = accuracy_score(y_test, y_pred) * 100\n",
    "print(\"\\nTesting Accuracy: {:.3f} %\".format(acc))"
   ]
  },
  {
   "cell_type": "code",
   "execution_count": null,
   "id": "0a279155",
   "metadata": {},
   "outputs": [
    {
     "ename": "TypeError",
     "evalue": "fit() got an unexpected keyword argument 'X'",
     "output_type": "error",
     "traceback": [
      "\u001b[1;31m---------------------------------------------------------------------------\u001b[0m",
      "\u001b[1;31mTypeError\u001b[0m                                 Traceback (most recent call last)",
      "\u001b[1;32m~\\AppData\\Local\\Temp\\ipykernel_11408\\271889032.py\u001b[0m in \u001b[0;36m<module>\u001b[1;34m\u001b[0m\n\u001b[0;32m      8\u001b[0m     \u001b[0mn_jobs\u001b[0m\u001b[1;33m=\u001b[0m\u001b[1;36m1\u001b[0m\u001b[1;33m\u001b[0m\u001b[0m\n\u001b[0;32m      9\u001b[0m )\n\u001b[1;32m---> 10\u001b[1;33m \u001b[0mmodel\u001b[0m\u001b[1;33m.\u001b[0m\u001b[0mfit\u001b[0m\u001b[1;33m(\u001b[0m\u001b[0mX\u001b[0m\u001b[1;33m=\u001b[0m\u001b[0mX_train_combined\u001b[0m\u001b[1;33m,\u001b[0m \u001b[0my\u001b[0m\u001b[1;33m=\u001b[0m\u001b[0my_train\u001b[0m\u001b[1;33m)\u001b[0m\u001b[1;33m\u001b[0m\u001b[0m\n\u001b[0m\u001b[0;32m     11\u001b[0m \u001b[0maccuracy\u001b[0m \u001b[1;33m=\u001b[0m \u001b[0mmodel\u001b[0m\u001b[1;33m.\u001b[0m\u001b[0mscore\u001b[0m\u001b[1;33m(\u001b[0m\u001b[0mX_test_combined\u001b[0m\u001b[1;33m,\u001b[0m \u001b[0my_test\u001b[0m\u001b[1;33m)\u001b[0m \u001b[1;33m*\u001b[0m \u001b[1;36m100\u001b[0m\u001b[1;33m\u001b[0m\u001b[0m\n",
      "\u001b[1;31mTypeError\u001b[0m: fit() got an unexpected keyword argument 'X'"
     ]
    }
   ],
   "source": [
    "model = PRF4DF.SklearnCompatiblePRF(\n",
    "    n_classes_= n_classes,\n",
    "    n_features_= n_features,\n",
    "    use_probabilistic_labels=False, \n",
    "    use_feature_uncertainties=True,\n",
    "    n_estimators=10, # Trees per forest\n",
    "    max_depth=10,\n",
    "    n_jobs=1\n",
    ")\n",
    "model.fit(X_train_combined, y_train)\n",
    "accuracy = model.score(X_test_combined, y_test) * 100"
   ]
  }
 ],
 "metadata": {
  "kernelspec": {
   "display_name": "venv",
   "language": "python",
   "name": "python3"
  },
  "language_info": {
   "codemirror_mode": {
    "name": "ipython",
    "version": 3
   },
   "file_extension": ".py",
   "mimetype": "text/x-python",
   "name": "python",
   "nbconvert_exporter": "python",
   "pygments_lexer": "ipython3",
   "version": "3.7.0"
  }
 },
 "nbformat": 4,
 "nbformat_minor": 5
}
