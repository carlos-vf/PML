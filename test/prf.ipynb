{
 "cells": [
  {
   "cell_type": "code",
   "execution_count": null,
   "id": "2363d9c0",
   "metadata": {},
   "outputs": [
    {
     "name": "stdout",
     "output_type": "stream",
     "text": [
      "X:  [[ 0.33453338  0.3817734   0.19323093 ... -0.81191589  0.19067206\n",
      "   0.84772759]\n",
      " [ 0.32742773  0.35012285  0.17785153 ... -0.85643206  0.19620735\n",
      "   0.85023905]\n",
      " [ 0.39173798  0.32019704  0.17513842 ...  0.23618577  0.20204299\n",
      "   0.79843681]\n",
      " ...\n",
      " [ 0.403697    0.27038462  0.12964029 ...  0.89465122  0.1941173\n",
      "   0.77770493]\n",
      " [ 0.25029907  0.33824084  0.20026945 ...  0.8638979   0.14645717\n",
      "   0.82934586]\n",
      " [ 0.27610644  0.34        0.16186233 ... -0.52845195  0.15704813\n",
      "   0.83015366]]\n",
      "y:  [5 1 4 ... 1 5 1]\n",
      "labels:  {1, 2, 3, 4, 5, 6, 7, 8, 9, 10, 11, 12, 13, 14, 15, 16, 17}\n",
      "45879 objects, 17 features\n"
     ]
    }
   ],
   "source": [
    "import PRF\n",
    "import numpy\n",
    "\n",
    "\n",
    "X = numpy.load('../data/bootstrap_X.npy')\n",
    "y = numpy.load('../data/bootstrap_y.npy')\n",
    "#y[y > 2] = 2               #TODO: Why do they keep only two classes?\n",
    "\n",
    "print(\"X: \", X)\n",
    "print(\"y: \", y)\n",
    "print(\"labels: \", set([int(i) for i in y]))\n",
    "\n",
    "n_objects = X.shape[0]\n",
    "n_features = X.shape[1]\n",
    "print(n_objects, 'objects,', n_features, 'features')"
   ]
  },
  {
   "cell_type": "code",
   "execution_count": null,
   "id": "c0c670c2",
   "metadata": {},
   "outputs": [
    {
     "name": "stdout",
     "output_type": "stream",
     "text": [
      "Train set size = 5000, Test set size = 500\n"
     ]
    }
   ],
   "source": [
    "shuffled_inds = numpy.random.choice(numpy.arange(n_objects),n_objects,replace=False)\n",
    "\n",
    "#shuffled_inds = numpy.where( (y == 1)  |  (y == 2) |  (y == 4)|  (y == 5)|  (y == 6)|  (y == 8)|  (y == 13))[0]        # TODO: Why?\n",
    "#shuffled_inds = numpy.random.choice(shuffled_inds,len(shuffled_inds),replace=False)\n",
    "n_train = 5000\n",
    "n_test = 500\n",
    "print('Train set size = {}, Test set size = {}'.format(n_train, n_test))\n",
    "\n",
    "nf = n_features\n",
    "train_inds = shuffled_inds[:n_train]\n",
    "X_train = X[train_inds][:,:nf]\n",
    "y_train = y[train_inds]\n",
    "\n",
    "test_inds = shuffled_inds[n_train:(n_train + n_test)]\n",
    "X_test = X[test_inds][:,:nf]\n",
    "y_test = y[test_inds]"
   ]
  },
  {
   "cell_type": "code",
   "execution_count": 13,
   "id": "0adb8fcd",
   "metadata": {},
   "outputs": [
    {
     "name": "stdout",
     "output_type": "stream",
     "text": [
      "Score:  0.76\n"
     ]
    }
   ],
   "source": [
    "n_trees = 10\n",
    "prf_cls = PRF.prf(n_estimators=n_trees,  bootstrap=True)\n",
    "prf_cls.fit(X=X_train, y=y_train)\n",
    "score = prf_cls.score(X_test, y=y_test)\n",
    "print('Score: ', score)"
   ]
  }
 ],
 "metadata": {
  "kernelspec": {
   "display_name": "venv",
   "language": "python",
   "name": "python3"
  },
  "language_info": {
   "codemirror_mode": {
    "name": "ipython",
    "version": 3
   },
   "file_extension": ".py",
   "mimetype": "text/x-python",
   "name": "python",
   "nbconvert_exporter": "python",
   "pygments_lexer": "ipython3",
   "version": "3.13.1"
  }
 },
 "nbformat": 4,
 "nbformat_minor": 5
}
