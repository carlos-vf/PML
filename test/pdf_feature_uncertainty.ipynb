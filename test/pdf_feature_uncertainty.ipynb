{
 "cells": [
  {
   "cell_type": "code",
   "execution_count": 1,
   "id": "a6d0d4e4",
   "metadata": {},
   "outputs": [],
   "source": [
    "from deepforest import CascadeForestClassifier\n",
    "import PRF4DF\n",
    "import numpy as np\n",
    "\n",
    "\n",
    "# --- Seed setting ---\n",
    "seed = 123\n",
    "np.random.seed(seed)"
   ]
  },
  {
   "cell_type": "code",
   "execution_count": 12,
   "id": "af8f7866",
   "metadata": {},
   "outputs": [
    {
     "name": "stdout",
     "output_type": "stream",
     "text": [
      "--- Original Data ---\n",
      "Original X sample:  [[ 0.33453338  0.3817734   0.19323093 ... -0.81191589  0.19067206\n",
      "   0.84772759]\n",
      " [ 0.32742773  0.35012285  0.17785153 ... -0.85643206  0.19620735\n",
      "   0.85023905]\n",
      " [ 0.39173798  0.32019704  0.17513842 ...  0.23618577  0.20204299\n",
      "   0.79843681]\n",
      " ...\n",
      " [ 0.43071606  0.37988827  0.24714295 ... -0.84221529  0.24334545\n",
      "   0.8628581 ]\n",
      " [ 0.18695281  0.28667433  0.1404702  ...  1.19362455  0.09216904\n",
      "   0.77052006]\n",
      " [ 0.12773789  0.30903322  0.15816711 ...  0.52400894  0.06605999\n",
      "   0.79830589]]\n",
      "Original dX sample:  [[0.00980023 0.01298663 0.01730336 ... 0.07554966 0.00503042 0.00614086]\n",
      " [0.0099433  0.01547131 0.01834346 ... 0.06557894 0.00303583 0.00408301]\n",
      " [0.00952382 0.00953937 0.0162304  ... 0.15137843 0.00276635 0.00701187]\n",
      " ...\n",
      " [0.01513477 0.01971204 0.01964974 ... 0.12579423 0.00383432 0.00537172]\n",
      " [0.01069045 0.00748945 0.0150812  ... 0.43512693 0.00363849 0.00970247]\n",
      " [0.00616469 0.01622886 0.01385321 ... 0.36720489 0.00177792 0.0100949 ]]\n",
      "Original y sample:  [ 4  0  3  0 12  0  5  0  0  4  4  0  1  0  7  1  3  4  4  0  0  0  4  4\n",
      " 16  3  0  0  4  0  0  3  7  4  4  1  1  0  4  0  4  0  0  5  0  3  0  0\n",
      "  9  0  1  1  3  0  7  4  4  3  0  4  4  3  3  0 12  0  0  0  1  4  3  3\n",
      "  1  4  4  0  7  4  4  0  0  2  0  4  4  4  0  4  0  7  1  3  0  5  0  0\n",
      "  4  5  0  0  0  0  0  0  3  1  0  4  0  0  4  4  1  4  1  1  3  0  4  4\n",
      "  0  0  3  1  5  4  7  4  4  0  0 13  4  0  3  0  4  4  0  0  4  3  0  0\n",
      "  4  5  0  0  0  0 10  0  0  0  0  0  4 15  5  4  0  0  0  3  7  0  0  7\n",
      "  4  0  4  7  0  0  0  0  3  7  0  0  4  4  4  4  3  3  3  0  0  4  3  3\n",
      "  5  4  1  4  4  0  4  0  0  0  4  1  2  0  1  1  4  5  0  1  0  4  4  0\n",
      " 10  0  2  0 10  1  1  4  0  5  4  1  0  4  0  0  0  0  0  0  4  1  0  0\n",
      "  0  0  0  1  0  0  0  0  0  4  0  0  1  0  4  0  0  0  0  0  0  0  4  0\n",
      "  4  8  0 10  0  0  3  3  1  4  0  0  7  4  0  0  1  4  1  0  1  4  0  0\n",
      "  0  4  0  0  0  0  5  2  0  3  4  0  4  0  0  0  0  0 13  1  0  1  0  0\n",
      "  0  4  0  0  0  1  0  0  0  0  0  2 12  0  0  0  0  0  4  0  4  0  0  0\n",
      "  0  0  0  1  4  1  4  4  1  4  0  3  0  1  1  0  0  0  0  4  1  0  0  0\n",
      "  0  0  0  0  0  0  1  1  4  4 16  1  0  0  4  0  1  0  0  4  0  0  7  0\n",
      "  0  0  4  0  4  0  0 12  0  4  0  0  1  4  0  0  1  0  4  0  5 10  4  4\n",
      "  0  0  0  3  4  0  0  4  0  0  4  3  0  0  0  4  0  4  4  0  0  1  0  0\n",
      "  1  0  4 12  0  1  0  1  0  4  4  1  0  0  0  7  0 10  0  0  0  0  4  0\n",
      "  0  0  0  0  0  0  0  0  1  0  0  0  0  1  4  0  0  0  4  0  0  0  0  0\n",
      "  0  4  0  4  0  0  0  0  8  0  5  1  4  5  5  0  4  4  4  0  0  4  0  1\n",
      "  0  4 12  7  1  0  0  0  0  0  4  0  4  0  0  0  0  0  0  0  0  0  0  0\n",
      " 10  1  0  0  0  0  1  0  0  0  0  3  0  0  0  0  0  3  2  0  1  0  0  0\n",
      "  0 10  0  1 12  0  0  0  0  0  7  0  4  4  0  1  0  0  0  1 12  0  0  0\n",
      "  0  0  0  4 10  0  0  0  0  0  0  0  7  4  4  0  0  0  7  7  2  0  0  0\n",
      "  0  0  5  0  0  1  1  1 10  0  0  0  3  3  3  3  0  0  0  3  4  3  0  4\n",
      "  0  3  3  3  3  1  3  3  3  1  4  0  3  0  3  3  0  0  0  0  0  7  4  1\n",
      "  0  4  0  0  0  0  0  3  0  0  0  0  4  0  0  0 12  0  0  0  0  0  0 12\n",
      "  0  7  0  0  7  0  4  0  4  0  0  0  1  0  1  0  3  4  4  1  0  0  0  0\n",
      "  0  3  1  1  0  0  0  1  0  0  0  0  0  1  4  3  0  0  0  0  3  0  0  5\n",
      "  0  0  3  0  0  0  0  0  0  4  0  1  0  5  0  0  0  1  4  0  1  0  0  0\n",
      "  0  0  5  1  0  1  4  0  0  1  0  0  0  1  4  0  4  1  4  0  1  0  4  0\n",
      "  0  1  0  0  0  0  0  0  0  0  4  0  1  0  0  0  0  0  1  0  0  0  0  0\n",
      "  0  4  3  0  0  0  0  3  0  0  0  0  0  0  0  0  3  4  1  0  0  4  4  0\n",
      "  0  0  0  0  0  0  0  0  1  0  1  0  0  7  4  0  1  0  0  0  0  4  0  0\n",
      "  0  0  0  0  0  0  0  0  0  0  0  0  4  0  0  0  1  8  1  0  0  0  0  4\n",
      "  0  0  0  0  0  1  0  0  0  9  0  1  0  0  1  0  1  0  0  0  0  0  0  0\n",
      "  0  0  1  0  0  0  0  0  0  0  0  0  0  5  0  0  0  0  0  7  0  0  0  0\n",
      "  4  0  4  0  0  0  3  0  7  1  0  0  0  3  0  1  7  0  4  0  0  0  0  0\n",
      "  1  0  0  0  4  0  0  4  0  0  0  0  4  0  0  1  3  1  0  1  0  0  6  0\n",
      "  0  0  0  4  0  0  0  1  0 13  0  0  4  4  0  4  0  0  0  0  0  1  0  0\n",
      "  4  0  1  4  0  1  1  0  0  2  0  0  0  3  1  7]\n",
      "Unique labels in y:  {0, 1, 2, 3, 4, 5, 6, 7, 8, 9, 10, 12, 13, 15, 16}\n",
      "1000 objects, 17 features\n"
     ]
    }
   ],
   "source": [
    "# --- Data loading ---\n",
    "X = np.load('../data/bootstrap_X.npy')\n",
    "dX = np.load('../data/bootstrap_dX.npy')\n",
    "y = np.load('../data/bootstrap_y.npy')\n",
    "\n",
    "X = X[:1000]\n",
    "dX = dX[:1000]\n",
    "y = y[:1000]\n",
    "\n",
    "print(\"--- Original Data ---\")\n",
    "print(\"Original X sample: \", X)\n",
    "print(\"Original dX sample: \", dX)\n",
    "print(\"Original y sample: \", y)\n",
    "print(\"Unique labels in y: \", set(y))\n",
    "\n",
    "n_objects = X.shape[0]\n",
    "n_features = X.shape[1]\n",
    "n_classes = len(set(y))\n",
    "print(f\"{n_objects} objects, {n_features} features\")"
   ]
  },
  {
   "cell_type": "code",
   "execution_count": 13,
   "id": "484adf75",
   "metadata": {},
   "outputs": [
    {
     "name": "stdout",
     "output_type": "stream",
     "text": [
      "Train set size = 800, Test set size = 200\n"
     ]
    }
   ],
   "source": [
    "# --- Data splitting ---\n",
    "n_train = int(n_objects * 0.8)\n",
    "n_test =  int(n_objects - n_train)\n",
    "print(f'Train set size = {n_train}, Test set size = {n_test}')\n",
    "\n",
    "shuffled_inds = np.random.permutation(n_objects)\n",
    "\n",
    "train_inds = shuffled_inds[:n_train]\n",
    "X_train = X[train_inds][:, :n_features]\n",
    "dX_train = dX[train_inds][:, :n_features] \n",
    "y_train = y[train_inds]\n",
    "\n",
    "test_inds = shuffled_inds[n_train:(n_train + n_test)]\n",
    "X_test = X[test_inds][:, :n_features]\n",
    "dX_test = dX[test_inds][:, :n_features]\n",
    "y_test = y[test_inds]\n",
    "\n",
    "# Concatenate X and dX for training\n",
    "X_train_combined = np.hstack((X_train, dX_train))\n",
    "X_test_combined = np.hstack((X_test, dX_test))"
   ]
  },
  {
   "cell_type": "code",
   "execution_count": 14,
   "id": "1999de4a",
   "metadata": {},
   "outputs": [],
   "source": [
    "# --- Model training ---\n",
    "\n",
    "# DeepForest\n",
    "n_cascade_estimators = 4  # Forests per layer\n",
    "model = CascadeForestClassifier(\n",
    "    n_bins=n_classes,\n",
    "    random_state=seed,\n",
    ")\n",
    "\n",
    "\n",
    "# PRF (estimators)\n",
    "prf_estimators = []\n",
    "for i in range(n_cascade_estimators):\n",
    "    single_prf_estimator = PRF4DF.SklearnCompatiblePRF(\n",
    "        n_classes_= n_classes,\n",
    "        n_features_= n_features,\n",
    "        use_probabilistic_labels=False, \n",
    "        use_feature_uncertainties=True,\n",
    "        n_estimators=10, # Trees per forest\n",
    "        max_depth=10,\n",
    "        random_state=i,\n",
    "        n_jobs=1\n",
    "    )\n",
    "    prf_estimators.append(single_prf_estimator)\n",
    "\n",
    "# Set the PRF estimators to the DF model\n",
    "model.set_estimator(prf_estimators)"
   ]
  },
  {
   "cell_type": "code",
   "execution_count": 15,
   "id": "c082cf72",
   "metadata": {},
   "outputs": [
    {
     "name": "stdout",
     "output_type": "stream",
     "text": [
      "Starting model fitting...\n",
      "[2025-06-05 17:43:27.911] Start to fit the model:\n",
      "[2025-06-05 17:43:27.911] Fitting cascade layer = 0 \n",
      "[2025-06-05 17:43:34.522] layer = 0  | Val Acc = 67.750 % | Elapsed = 6.611 s\n",
      "[2025-06-05 17:43:34.533] Fitting cascade layer = 1 \n",
      "[2025-06-05 17:43:44.026] layer = 1  | Val Acc = 64.125 % | Elapsed = 9.493 s\n",
      "[2025-06-05 17:43:44.027] Early stopping counter: 1 out of 2\n",
      "[2025-06-05 17:43:44.034] Fitting cascade layer = 2 \n",
      "[2025-06-05 17:43:52.181] layer = 2  | Val Acc = 60.375 % | Elapsed = 8.147 s\n",
      "[2025-06-05 17:43:52.181] Early stopping counter: 2 out of 2\n",
      "[2025-06-05 17:43:52.181] Handling early stopping\n",
      "[2025-06-05 17:43:52.189] The optimal number of layers: 1\n"
     ]
    }
   ],
   "source": [
    "# --- Model fitting ---\n",
    "print(\"Starting model fitting...\")\n",
    "model.fit(X=X_train_combined, y=y_train)"
   ]
  },
  {
   "cell_type": "code",
   "execution_count": 16,
   "id": "5ad15074",
   "metadata": {},
   "outputs": [
    {
     "name": "stdout",
     "output_type": "stream",
     "text": [
      "[2025-06-05 17:44:31.991] Start to evalute the model:\n",
      "[2025-06-05 17:44:31.991] Evaluating cascade layer = 0 \n",
      "Testing Accuracy: 64.000 %\n"
     ]
    }
   ],
   "source": [
    "# --- Model evaluation ---\n",
    "accuracy = model.score(X_test_combined, y_test) * 100\n",
    "print(f\"Testing Accuracy: {accuracy:.3f} %\")"
   ]
  }
 ],
 "metadata": {
  "kernelspec": {
   "display_name": "venv",
   "language": "python",
   "name": "python3"
  },
  "language_info": {
   "codemirror_mode": {
    "name": "ipython",
    "version": 3
   },
   "file_extension": ".py",
   "mimetype": "text/x-python",
   "name": "python",
   "nbconvert_exporter": "python",
   "pygments_lexer": "ipython3",
   "version": "3.7.0"
  }
 },
 "nbformat": 4,
 "nbformat_minor": 5
}
