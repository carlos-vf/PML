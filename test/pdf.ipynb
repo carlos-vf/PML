{
 "cells": [
  {
   "cell_type": "code",
   "execution_count": 1,
   "id": "a6d0d4e4",
   "metadata": {},
   "outputs": [],
   "source": [
    "from deepforest import CascadeForestClassifier\n",
    "import PRF4DF\n",
    "import numpy as np\n",
    "\n",
    "\n",
    "# --- Seed setting ---\n",
    "seed = 123\n",
    "np.random.seed(seed)"
   ]
  },
  {
   "cell_type": "code",
   "execution_count": 3,
   "id": "af8f7866",
   "metadata": {},
   "outputs": [
    {
     "name": "stdout",
     "output_type": "stream",
     "text": [
      "--- Original Data ---\n",
      "Original X sample:  [[ 0.33453338  0.3817734   0.19323093 ... -0.81191589  0.19067206\n",
      "   0.84772759]\n",
      " [ 0.32742773  0.35012285  0.17785153 ... -0.85643206  0.19620735\n",
      "   0.85023905]\n",
      " [ 0.39173798  0.32019704  0.17513842 ...  0.23618577  0.20204299\n",
      "   0.79843681]\n",
      " ...\n",
      " [ 0.403697    0.27038462  0.12964029 ...  0.89465122  0.1941173\n",
      "   0.77770493]\n",
      " [ 0.25029907  0.33824084  0.20026945 ...  0.8638979   0.14645717\n",
      "   0.82934586]\n",
      " [ 0.27610644  0.34        0.16186233 ... -0.52845195  0.15704813\n",
      "   0.83015366]]\n",
      "Original dX sample:  [[0.00980023 0.01298663 0.01730336 ... 0.07554966 0.00503042 0.00614086]\n",
      " [0.0099433  0.01547131 0.01834346 ... 0.06557894 0.00303583 0.00408301]\n",
      " [0.00952382 0.00953937 0.0162304  ... 0.15137843 0.00276635 0.00701187]\n",
      " ...\n",
      " [0.01547352 0.01519596 0.02114385 ... 0.23644937 0.00473304 0.01679457]\n",
      " [0.00721856 0.01831125 0.01688584 ... 0.81714142 0.00310632 0.01113628]\n",
      " [0.00577725 0.01198521 0.01370714 ... 0.07905823 0.00147411 0.00798292]]\n",
      "Original y sample:  [4 0 3 ... 0 4 0]\n",
      "Unique labels in y:  {0, 1, 2, 3, 4, 5, 6, 7, 8, 9, 10, 11, 12, 13, 14, 15, 16}\n",
      "45879 objects, 17 features\n"
     ]
    }
   ],
   "source": [
    "# --- Data loading ---\n",
    "X = np.load('../data/bootstrap_X.npy')\n",
    "dX = np.load('../data/bootstrap_dX.npy')\n",
    "y = np.load('../data/bootstrap_y.npy')\n",
    "\n",
    "print(\"--- Original Data ---\")\n",
    "print(\"Original X sample: \", X)\n",
    "print(\"Original dX sample: \", dX)\n",
    "print(\"Original y sample: \", y)\n",
    "print(\"Unique labels in y: \", set(y))\n",
    "\n",
    "n_objects = X.shape[0]\n",
    "n_features = X.shape[1]\n",
    "n_classes = len(set(y))\n",
    "print(f\"{n_objects} objects, {n_features} features\")"
   ]
  },
  {
   "cell_type": "code",
   "execution_count": null,
   "id": "484adf75",
   "metadata": {},
   "outputs": [
    {
     "name": "stdout",
     "output_type": "stream",
     "text": [
      "\n",
      "Train set size = 36703, Test set size = 9176\n"
     ]
    }
   ],
   "source": [
    "# --- Data splitting ---\n",
    "n_train = int(n_objects * 0.8)\n",
    "n_test =  int(n_objects - n_train)\n",
    "print(f'Train set size = {n_train}, Test set size = {n_test}')\n",
    "\n",
    "shuffled_inds = np.random.permutation(n_objects)\n",
    "\n",
    "train_inds = shuffled_inds[:n_train]\n",
    "X_train = X[train_inds][:, :n_features]\n",
    "dX_train = dX[train_inds][:, :n_features] \n",
    "y_train = y[train_inds]\n",
    "\n",
    "test_inds = shuffled_inds[n_train:(n_train + n_test)]\n",
    "X_test = X[test_inds][:, :n_features]\n",
    "dX_test = dX[test_inds][:, :n_features]\n",
    "y_test = y[test_inds]\n",
    "\n",
    "# Concatenate X and dX for training\n",
    "X_train_combined = np.hstack((X_train, dX_train))\n",
    "X_test_combined = np.hstack((X_test, dX_test))"
   ]
  },
  {
   "cell_type": "code",
   "execution_count": 5,
   "id": "1999de4a",
   "metadata": {},
   "outputs": [],
   "source": [
    "# --- Model training ---\n",
    "\n",
    "# DeepForest\n",
    "n_cascade_estimators = 4  # Forests per layer\n",
    "model = CascadeForestClassifier(\n",
    "    n_bins=n_classes,\n",
    "    random_state=seed,\n",
    ")\n",
    "\n",
    "\n",
    "# PRF (estimators)\n",
    "prf_estimators = []\n",
    "for i in range(n_cascade_estimators):\n",
    "    single_prf_estimator = PRF4DF.SklearnCompatiblePRF(\n",
    "        n_classes_= n_classes,\n",
    "        n_features_= n_features,\n",
    "        n_estimators=10, # Trees per forest\n",
    "        max_depth=10,\n",
    "        random_state=i,\n",
    "        n_jobs=1\n",
    "    )\n",
    "    prf_estimators.append(single_prf_estimator)\n",
    "\n",
    "# Set the PRF estimators to the DF model\n",
    "model.set_estimator(prf_estimators)"
   ]
  },
  {
   "cell_type": "code",
   "execution_count": 7,
   "id": "c082cf72",
   "metadata": {},
   "outputs": [
    {
     "name": "stdout",
     "output_type": "stream",
     "text": [
      "Starting model fitting...\n",
      "[2025-06-04 18:52:28.192] Start to fit the model:\n",
      "[2025-06-04 18:52:28.192] Fitting cascade layer = 0 \n",
      "[2025-06-04 18:56:54.204] layer = 0  | Val Acc = 70.926 % | Elapsed = 266.012 s\n",
      "[2025-06-04 18:56:54.413] Fitting cascade layer = 1 \n",
      "[2025-06-04 19:04:26.118] layer = 1  | Val Acc = 73.356 % | Elapsed = 451.705 s\n",
      "[2025-06-04 19:04:26.308] Fitting cascade layer = 2 \n",
      "[2025-06-04 19:11:25.211] layer = 2  | Val Acc = 74.157 % | Elapsed = 418.903 s\n",
      "[2025-06-04 19:11:25.391] Fitting cascade layer = 3 \n",
      "[2025-06-04 19:18:17.472] layer = 3  | Val Acc = 74.217 % | Elapsed = 412.081 s\n",
      "[2025-06-04 19:18:17.659] Fitting cascade layer = 4 \n",
      "[2025-06-04 19:25:12.068] layer = 4  | Val Acc = 73.621 % | Elapsed = 414.409 s\n",
      "[2025-06-04 19:25:12.068] Early stopping counter: 1 out of 2\n",
      "[2025-06-04 19:25:12.256] Fitting cascade layer = 5 \n",
      "[2025-06-04 19:32:23.306] layer = 5  | Val Acc = 73.261 % | Elapsed = 431.051 s\n",
      "[2025-06-04 19:32:23.306] Early stopping counter: 2 out of 2\n",
      "[2025-06-04 19:32:23.306] Handling early stopping\n",
      "[2025-06-04 19:32:23.336] The optimal number of layers: 4\n"
     ]
    }
   ],
   "source": [
    "# --- Model fitting ---\n",
    "print(\"Starting model fitting...\")\n",
    "model.fit(X=X_train_combined, y=y_train)"
   ]
  },
  {
   "cell_type": "code",
   "execution_count": 8,
   "id": "5ad15074",
   "metadata": {},
   "outputs": [
    {
     "name": "stdout",
     "output_type": "stream",
     "text": [
      "[2025-06-04 19:41:10.827] Start to evalute the model:\n",
      "[2025-06-04 19:41:10.834] Evaluating cascade layer = 0 \n",
      "[2025-06-04 19:41:23.380] Evaluating cascade layer = 1 \n",
      "[2025-06-04 19:41:33.820] Evaluating cascade layer = 2 \n",
      "[2025-06-04 19:41:43.701] Evaluating cascade layer = 3 \n",
      "Testing Accuracy: 74.793 %\n"
     ]
    }
   ],
   "source": [
    "# --- Model evaluation ---\n",
    "accuracy = model.score(X_test_combined, y_test) * 100\n",
    "print(f\"Testing Accuracy: {accuracy:.3f} %\")"
   ]
  }
 ],
 "metadata": {
  "kernelspec": {
   "display_name": "venv",
   "language": "python",
   "name": "python3"
  },
  "language_info": {
   "codemirror_mode": {
    "name": "ipython",
    "version": 3
   },
   "file_extension": ".py",
   "mimetype": "text/x-python",
   "name": "python",
   "nbconvert_exporter": "python",
   "pygments_lexer": "ipython3",
   "version": "3.7.0"
  }
 },
 "nbformat": 4,
 "nbformat_minor": 5
}
